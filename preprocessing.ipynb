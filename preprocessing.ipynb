{
 "cells": [
  {
   "cell_type": "code",
   "execution_count": 1,
   "metadata": {},
   "outputs": [],
   "source": [
    "%matplotlib inline\n",
    "\n",
    "import os\n",
    "import math\n",
    "import h5py\n",
    "import warnings\n",
    "import numpy as np\n",
    "import pandas as pd\n",
    "import seaborn as sns\n",
    "import tensorflow as tf\n",
    "import matplotlib.pyplot as plt\n",
    "\n",
    "from astropy.table import Table\n",
    "from collections import namedtuple\n",
    "from scipy.interpolate import interp1d\n",
    "from tqdm import tqdm_notebook as tqdm"
   ]
  },
  {
   "cell_type": "code",
   "execution_count": 2,
   "metadata": {},
   "outputs": [],
   "source": [
    "plt.style.use('seaborn')\n",
    "warnings.filterwarnings('ignore')"
   ]
  },
  {
   "cell_type": "code",
   "execution_count": 3,
   "metadata": {},
   "outputs": [],
   "source": [
    "def plot(wave, flux):\n",
    "    plt.plot(wave, flux)\n",
    "    plt.axvline(target_lb, color='r', linestyle='--')\n",
    "    plt.axvline(target_ub, color='r', linestyle='--')\n",
    "    plt.axvline(latent_lb, color='r', linestyle='--')\n",
    "    plt.axvline(latent_ub, color='r', linestyle='--')\n",
    "    plt.show()"
   ]
  },
  {
   "cell_type": "code",
   "execution_count": 4,
   "metadata": {},
   "outputs": [],
   "source": [
    "def round_value(x, to, up=True):\n",
    "    if up:\n",
    "        return int(math.ceil(x/to))*to\n",
    "    else:\n",
    "        return int(math.floor(x/to))*to"
   ]
  },
  {
   "cell_type": "code",
   "execution_count": 5,
   "metadata": {},
   "outputs": [],
   "source": [
    "def interpolate(wave, flux):\n",
    "    interp = interp1d(wave, flux, kind='cubic')\n",
    "    lb = round_value(wave[0], resolution, up=True)\n",
    "    ub = round_value(wave[-1], resolution, up=False)\n",
    "    x = np.arange(lb, ub, resolution)\n",
    "    y = interp(x)\n",
    "    return x, y"
   ]
  },
  {
   "cell_type": "code",
   "execution_count": 6,
   "metadata": {},
   "outputs": [],
   "source": [
    "z_lb = 2.09\n",
    "z_ub = 2.51\n",
    "\n",
    "target_lb = 1180\n",
    "target_ub = 1280\n",
    "\n",
    "latent_lb = 1280\n",
    "latent_ub = 2280\n",
    "\n",
    "snr_wave = 1290\n",
    "snr_range = 2.5\n",
    "\n",
    "norm_wave = 1290\n",
    "norm_range = 2.5\n",
    "\n",
    "resolution = 0.25\n",
    "snr_threshold = 5.0"
   ]
  },
  {
   "cell_type": "code",
   "execution_count": 7,
   "metadata": {},
   "outputs": [],
   "source": [
    "filename = '/vol/data/spectralgan/IGMspec_DB_v03.hdf5'\n",
    "group_key = 'BOSS_DR14'"
   ]
  },
  {
   "cell_type": "code",
   "execution_count": 8,
   "metadata": {},
   "outputs": [],
   "source": [
    "Datum = namedtuple('Datum', ['latent', 'target', 'shift'])"
   ]
  },
  {
   "cell_type": "code",
   "execution_count": 9,
   "metadata": {},
   "outputs": [],
   "source": [
    "f = h5py.File(filename, 'r')\n",
    "data = f[group_key]\n",
    "specs = data['spec']"
   ]
  },
  {
   "cell_type": "code",
   "execution_count": 10,
   "metadata": {},
   "outputs": [],
   "source": [
    "meta_table = Table.read(filename, path=group_key+'/meta')"
   ]
  },
  {
   "cell_type": "code",
   "execution_count": 11,
   "metadata": {
    "scrolled": false
   },
   "outputs": [
    {
     "data": {
      "application/vnd.jupyter.widget-view+json": {
       "model_id": "6121176bb3bf4f19bb7d71dd92e7c9ab",
       "version_major": 2,
       "version_minor": 0
      },
      "text/plain": [
       "HBox(children=(IntProgress(value=0, max=446844), HTML(value='')))"
      ]
     },
     "metadata": {},
     "output_type": "display_data"
    },
    {
     "name": "stdout",
     "output_type": "stream",
     "text": [
      "\n"
     ]
    }
   ],
   "source": [
    "train_data = []\n",
    "\n",
    "for i, spec in tqdm(enumerate(specs), total=len(specs)):\n",
    "    \n",
    "    if not meta_table[i]['ZWARNING']:\n",
    "        z = meta_table[i]['Z']\n",
    "        \n",
    "        if z_lb < z < z_ub:\n",
    "            wave, flux = spec['wave'], spec['flux']\n",
    "            wave, flux =  wave[wave != 0], flux[wave != 0]\n",
    "            wave /= z + 1\n",
    "            \n",
    "            if wave[0] < target_lb and wave[-1] > latent_ub:\n",
    "                fl = flux[(wave >= snr_wave-snr_range) & (wave < snr_wave+snr_range)]\n",
    "\n",
    "                if np.median(fl)/np.std(fl) > snr_threshold:\n",
    "                    wave, flux = interpolate(wave, flux)\n",
    "                    \n",
    "                    latent = flux[(wave >= latent_lb) & (wave < latent_ub)]\n",
    "                    target = flux[(wave >= target_lb) & (wave < target_ub)]\n",
    "                    \n",
    "                    # Normalize latent with modified Z-score and target to [-1, 1]\n",
    "                    a, b = np.median(latent), latent.std()\n",
    "                    latent = (latent - a)/(b)\n",
    "                    \n",
    "                    c, d = target.min(), target.max()\n",
    "                    target = 2*((target - c)/(d - c)) - 1\n",
    "\n",
    "                    train_data.append(Datum(latent, target, [a, b, c, d]))"
   ]
  },
  {
   "cell_type": "code",
   "execution_count": 16,
   "metadata": {},
   "outputs": [
    {
     "data": {
      "image/png": "[encoded data removed]",
      "text/plain": [
       "<Figure size 576x396 with 1 Axes>"
      ]
     },
     "metadata": {},
     "output_type": "display_data"
    }
   ],
   "source": [
    "plot(np.arange(1180, 1280, 0.25), train_data[2].target)"
   ]
  },
  {
   "cell_type": "code",
   "execution_count": 24,
   "metadata": {},
   "outputs": [
    {
     "data": {
      "image/png": "[encoded data removed]",
      "text/plain": [
       "<Figure size 576x396 with 1 Axes>"
      ]
     },
     "metadata": {},
     "output_type": "display_data"
    }
   ],
   "source": [
    "plot(np.arange(1280, 2280, 0.25), train_data[6].latent)"
   ]
  },
  {
   "cell_type": "code",
   "execution_count": 12,
   "metadata": {},
   "outputs": [],
   "source": [
    "def np_to_tfrecords(X, Y, Z, file_path_prefix, verbose=False):\n",
    "    def _dtype_feature(ndarray):\n",
    "        \"\"\"match appropriate tf.train.Feature class with dtype of ndarray. \"\"\"\n",
    "        assert isinstance(ndarray, np.ndarray)\n",
    "        dtype_ = ndarray.dtype\n",
    "        if dtype_ == np.float64 or dtype_ == np.float32:\n",
    "            return lambda array: tf.train.Feature(float_list=tf.train.FloatList(value=array))\n",
    "        elif dtype_ == np.int64 or dtype_ == np.int32:\n",
    "            return lambda array: tf.train.Feature(int64_list=tf.train.Int64List(value=array))\n",
    "        else:  \n",
    "            raise ValueError(\"The input should be numpy ndarray. \\\n",
    "                               Instead got {}\".format(ndarray.dtype))\n",
    "            \n",
    "    assert isinstance(X, np.ndarray)\n",
    "    assert len(X.shape) == 2  # If X has a higher rank, \n",
    "                              # it should be reshaped before fed to this function.\n",
    "    assert isinstance(Y, np.ndarray) or Y is None\n",
    "    \n",
    "    # load appropriate tf.train.Feature class depending on dtype\n",
    "    dtype_feature_x = _dtype_feature(X)\n",
    "    if Y is not None:\n",
    "        assert X.shape[0] == Y.shape[0]\n",
    "        assert len(Y.shape) == 2\n",
    "        dtype_feature_y = _dtype_feature(Y)\n",
    "    if Z is not None:\n",
    "        assert X.shape[0] == Z.shape[0]\n",
    "        assert len(Z.shape) == 2\n",
    "        dtype_feature_z = _dtype_feature(Z)\n",
    "    \n",
    "    # Generate tfrecord writer\n",
    "    result_tf_file = file_path_prefix + '.tfrecords'\n",
    "    writer = tf.python_io.TFRecordWriter(result_tf_file)\n",
    "    if verbose:\n",
    "        print(\"Serializing {:d} examples into {}\".format(X.shape[0], result_tf_file))\n",
    "        \n",
    "    # iterate over each sample,\n",
    "    # and serialize it as ProtoBuf.\n",
    "    for idx in range(X.shape[0]):\n",
    "        x = X[idx]\n",
    "        if Y is not None:\n",
    "            y = Y[idx]\n",
    "        if Z is not None:\n",
    "            z = Z[idx]\n",
    "        \n",
    "        d_feature = {}\n",
    "        d_feature['latent'] = dtype_feature_x(x)\n",
    "        if Y is not None:\n",
    "            d_feature['target'] = dtype_feature_y(y)\n",
    "        if Z is not None:\n",
    "            d_feature['metadata'] = dtype_feature_z(z)\n",
    "            \n",
    "        features = tf.train.Features(feature=d_feature)\n",
    "        example = tf.train.Example(features=features)\n",
    "        serialized = example.SerializeToString()\n",
    "        writer.write(serialized)\n",
    "    \n",
    "    if verbose:\n",
    "        print(\"Writing {} done!\".format(result_tf_file))"
   ]
  },
  {
   "cell_type": "code",
   "execution_count": 13,
   "metadata": {},
   "outputs": [],
   "source": [
    "savedir = '/vol/data/spectralgan/train'"
   ]
  },
  {
   "cell_type": "code",
   "execution_count": 16,
   "metadata": {},
   "outputs": [
    {
     "data": {
      "application/vnd.jupyter.widget-view+json": {
       "model_id": "2d716ca1f938409f8172d1860aee6374",
       "version_major": 2,
       "version_minor": 0
      },
      "text/plain": [
       "HBox(children=(IntProgress(value=0, max=40), HTML(value='')))"
      ]
     },
     "metadata": {},
     "output_type": "display_data"
    },
    {
     "name": "stdout",
     "output_type": "stream",
     "text": [
      "\n"
     ]
    }
   ],
   "source": [
    "batches = 40\n",
    "test_idx = np.random.choice(batches, size=batches//10, replace=False)\n",
    "batch_size = len(train_data)//batches\n",
    "\n",
    "for i in tqdm(range(batches)):\n",
    "    batch = train_data[batch_size*i:batch_size*(i+1)]\n",
    "\n",
    "    batch = Datum(*zip(*batch))\n",
    "    \n",
    "    latent = np.vstack(batch.latent)\n",
    "    target = np.vstack(batch.target)\n",
    "    shift = np.vstack(batch.shift)\n",
    "    \n",
    "    if i in test_idx:\n",
    "        np_to_tfrecords(latent, target, shift, os.path.join(savedir, 'test_{}'.format(i)))\n",
    "    else:\n",
    "        np_to_tfrecords(latent, target, shift, os.path.join(savedir, 'train_{}'.format(i)))"
   ]
  },
  {
   "cell_type": "code",
   "execution_count": 17,
   "metadata": {},
   "outputs": [
    {
     "data": {
      "text/plain": [
       "array([37, 28, 16,  8])"
      ]
     },
     "execution_count": 17,
     "metadata": {},
     "output_type": "execute_result"
    }
   ],
   "source": [
    "test_idx"
   ]
  },
  {
   "cell_type": "code",
   "execution_count": 18,
   "metadata": {},
   "outputs": [
    {
     "data": {
      "text/plain": [
       "41160"
      ]
     },
     "execution_count": 18,
     "metadata": {},
     "output_type": "execute_result"
    }
   ],
   "source": [
    "len(train_data)"
   ]
  },
  {
   "cell_type": "code",
   "execution_count": null,
   "metadata": {},
   "outputs": [],
   "source": []
  }
 ],
 "metadata": {
  "kernelspec": {
   "display_name": "Python 3",
   "language": "python",
   "name": "python3"
  },
  "language_info": {
   "codemirror_mode": {
    "name": "ipython",
    "version": 3
   },
   "file_extension": ".py",
   "mimetype": "text/x-python",
   "name": "python",
   "nbconvert_exporter": "python",
   "pygments_lexer": "ipython3",
   "version": "3.5.2"
  }
 },
 "nbformat": 4,
 "nbformat_minor": 2
}
